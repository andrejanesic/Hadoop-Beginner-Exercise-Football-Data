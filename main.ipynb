{
 "cells": [
  {
   "cell_type": "code",
   "execution_count": 1,
   "metadata": {
    "vscode": {
     "languageId": "shellscript"
    }
   },
   "outputs": [],
   "source": [
    "!hdfs dfs -put data/football /data/football"
   ]
  },
  {
   "cell_type": "code",
   "execution_count": 2,
   "metadata": {
    "vscode": {
     "languageId": "shellscript"
    }
   },
   "outputs": [
    {
     "name": "stdout",
     "output_type": "stream",
     "text": [
      "Round,Date,Time,Home_Team,Home_Score,Away_Score,Away_Team,Home_Score_AET,Away_Score_AET,Home_Penalties,Away_Penalties,Home_Points,Away_Points,season,Country,Competition\r\n",
      "ROUND 1,31/08/2002,22:30,RACING SANTANDER,0,1,VALLADOLID,,,,,0.0,3.0,2002,spain,primera-division\r\n",
      "ROUND 1,01/09/2002,21:00,RAYO VALLECANO,2,2,ALAVES,,,,,1.0,1.0,2002,spain,primera-division\r\n",
      "ROUND 1,01/09/2002,21:00,REAL SOCIEDAD,4,2,ATHLETIC BILBAO,,,,,3.0,0.0,2002,spain,primera-division\r\n",
      "ROUND 1,01/09/2002,22:00,MALLORCA,0,2,VALENCIA,,,,,0.0,3.0,2002,spain,primera-division\r\n",
      "ROUND 1,01/09/2002,22:30,VILLARREAL,2,2,OSASUNA,,,,,1.0,1.0,2002,spain,primera-division\r\n",
      "ROUND 1,01/09/2002,22:30,RECREATIVO HUELVA,2,3,MALAGA,,,,,0.0,3.0,2002,spain,primera-division\r\n",
      "ROUND 1,01/09/2002,23:00,BARCELONA,2,2,ATLETICO MADRID,,,,,1.0,1.0,2002,spain,primera-division\r\n",
      "ROUND 1,01/09/2002,23:00,DEPORTIVO LA CORUNA,2,4,BETIS,,,,,0.0,3.0,2002,spain,primera-division\r\n",
      "ROUND 1,01/09/2002,23:30,SEVILLA,0,1,CELTA VIGO,,,,,0.0,3.0,2002,spain,primera-division\r\n",
      "cat: Unable to write to output stream.\r\n"
     ]
    }
   ],
   "source": [
    "!hdfs dfs -cat /data/football/* | head -n 10"
   ]
  },
  {
   "cell_type": "code",
   "execution_count": 47,
   "metadata": {
    "vscode": {
     "languageId": "shellscript"
    }
   },
   "outputs": [
    {
     "name": "stdout",
     "output_type": "stream",
     "text": [
      "Overwriting mapper.py\n"
     ]
    }
   ],
   "source": [
    "%%writefile mapper.py\n",
    "\n",
    "import sys\n",
    "\n",
    "won = lambda i: 1 if i == 3 else 0\n",
    "\n",
    "for line in sys.stdin:\n",
    "    \n",
    "    try:\n",
    "        tokens = line.strip().split(',')\n",
    "        team_home = tokens[3]\n",
    "        team_away = tokens[6]\n",
    "        won_home = won(int(float(tokens[-5])))\n",
    "        won_away = won(int(float(tokens[-4])))\n",
    "        \n",
    "    except:\n",
    "        continue\n",
    "        \n",
    "    print(f'{team_home.upper()}\\t{won_home}')\n",
    "    print(f'{team_away.upper()}\\t{won_away}')"
   ]
  },
  {
   "cell_type": "code",
   "execution_count": 46,
   "metadata": {
    "vscode": {
     "languageId": "shellscript"
    }
   },
   "outputs": [
    {
     "name": "stdout",
     "output_type": "stream",
     "text": [
      "Overwriting reducer.py\n"
     ]
    }
   ],
   "source": [
    "%%writefile reducer.py\n",
    "\n",
    "import sys\n",
    "\n",
    "curr_team = None\n",
    "curr_wins = 0\n",
    "curr_count = 0\n",
    "\n",
    "for line in sys.stdin:\n",
    "    \n",
    "    try:\n",
    "        team, won = line.split('\\t', 1)\n",
    "        won = int(won)\n",
    "        \n",
    "    except:\n",
    "        continue\n",
    "        \n",
    "    if team != curr_team:\n",
    "        if curr_team:\n",
    "            print(f'{curr_team}\\t{curr_wins}\\t{curr_count}')\n",
    "        curr_team = team\n",
    "        curr_wins = 0\n",
    "        curr_count = 0\n",
    "    curr_wins += won\n",
    "    curr_count += 1\n",
    "\n",
    "if curr_team:\n",
    "    print(f'{curr_team}\\t{curr_wins}\\t{curr_count}')"
   ]
  },
  {
   "cell_type": "code",
   "execution_count": 45,
   "metadata": {},
   "outputs": [
    {
     "name": "stdout",
     "output_type": "stream",
     "text": [
      "Overwriting mapper_stats.py\n"
     ]
    }
   ],
   "source": [
    "%%writefile mapper_stats.py\n",
    "\n",
    "import sys\n",
    "\n",
    "for line in sys.stdin:\n",
    "    \n",
    "    try:\n",
    "        team, wins, total = line.split('\\t', 2)\n",
    "        wins = int(wins)\n",
    "        total = int(total)\n",
    "        \n",
    "    except:\n",
    "        continue\n",
    "        \n",
    "    perc = (1.0 * wins) / total\n",
    "    \n",
    "    print(f'{team}\\t{perc}')"
   ]
  },
  {
   "cell_type": "code",
   "execution_count": 75,
   "metadata": {
    "vscode": {
     "languageId": "shellscript"
    }
   },
   "outputs": [
    {
     "name": "stdout",
     "output_type": "stream",
     "text": [
      "Overwriting reducer_stats.py\n"
     ]
    }
   ],
   "source": [
    "%%writefile reducer_stats.py\n",
    "\n",
    "import sys\n",
    "import re\n",
    "\n",
    "for line in sys.stdin:\n",
    "    \n",
    "    try:\n",
    "        team, stat = line.strip().split('\\t', 1)\n",
    "        team = re.sub('\\s', '_', team)\n",
    "        stat = round(float(stat), 2)\n",
    "    except:\n",
    "        continue\n",
    "        \n",
    "    print(f'{stat}\\t{team}')"
   ]
  },
  {
   "cell_type": "code",
   "execution_count": 79,
   "metadata": {
    "vscode": {
     "languageId": "shellscript"
    }
   },
   "outputs": [
    {
     "name": "stderr",
     "output_type": "stream",
     "text": [
      "22/10/29 17:14:54 INFO client.RMProxy: Connecting to ResourceManager at /0.0.0.0:8032\n",
      "22/10/29 17:14:55 INFO client.RMProxy: Connecting to ResourceManager at /0.0.0.0:8032\n",
      "22/10/29 17:14:55 INFO mapred.FileInputFormat: Total input files to process : 1\n",
      "22/10/29 17:14:55 INFO mapreduce.JobSubmitter: number of splits:2\n",
      "22/10/29 17:14:56 INFO Configuration.deprecation: yarn.resourcemanager.system-metrics-publisher.enabled is deprecated. Instead, use yarn.system-metrics-publisher.enabled\n",
      "22/10/29 17:14:56 INFO mapreduce.JobSubmitter: Submitting tokens for job: job_1667060446092_0041\n",
      "22/10/29 17:14:56 INFO conf.Configuration: resource-types.xml not found\n",
      "22/10/29 17:14:56 INFO resource.ResourceUtils: Unable to find 'resource-types.xml'.\n",
      "22/10/29 17:14:56 INFO resource.ResourceUtils: Adding resource type - name = memory-mb, units = Mi, type = COUNTABLE\n",
      "22/10/29 17:14:56 INFO resource.ResourceUtils: Adding resource type - name = vcores, units = , type = COUNTABLE\n",
      "22/10/29 17:14:56 INFO impl.YarnClientImpl: Submitted application application_1667060446092_0041\n",
      "22/10/29 17:14:56 INFO mapreduce.Job: The url to track the job: http://172.17.0.2:8088/proxy/application_1667060446092_0041/\n",
      "22/10/29 17:14:56 INFO mapreduce.Job: Running job: job_1667060446092_0041\n",
      "22/10/29 17:15:03 INFO mapreduce.Job: Job job_1667060446092_0041 running in uber mode : false\n",
      "22/10/29 17:15:03 INFO mapreduce.Job:  map 0% reduce 0%\n",
      "22/10/29 17:15:10 INFO mapreduce.Job:  map 100% reduce 0%\n",
      "22/10/29 17:15:18 INFO mapreduce.Job:  map 100% reduce 13%\n",
      "22/10/29 17:15:24 INFO mapreduce.Job:  map 100% reduce 25%\n",
      "22/10/29 17:15:26 INFO mapreduce.Job:  map 100% reduce 38%\n",
      "22/10/29 17:15:29 INFO mapreduce.Job:  map 100% reduce 63%\n",
      "22/10/29 17:15:30 INFO mapreduce.Job:  map 100% reduce 75%\n",
      "22/10/29 17:15:31 INFO mapreduce.Job:  map 100% reduce 88%\n",
      "22/10/29 17:15:33 INFO mapreduce.Job:  map 100% reduce 100%\n",
      "22/10/29 17:15:33 INFO mapreduce.Job: Job job_1667060446092_0041 completed successfully\n",
      "22/10/29 17:15:33 INFO mapreduce.Job: Counters: 50\n",
      "\tFile System Counters\n",
      "\t\tFILE: Number of bytes read=1492068\n",
      "\t\tFILE: Number of bytes written=5072400\n",
      "\t\tFILE: Number of read operations=0\n",
      "\t\tFILE: Number of large read operations=0\n",
      "\t\tFILE: Number of write operations=0\n",
      "\t\tHDFS: Number of bytes read=4643399\n",
      "\t\tHDFS: Number of bytes written=30191\n",
      "\t\tHDFS: Number of read operations=30\n",
      "\t\tHDFS: Number of large read operations=0\n",
      "\t\tHDFS: Number of write operations=16\n",
      "\tJob Counters \n",
      "\t\tKilled reduce tasks=1\n",
      "\t\tLaunched map tasks=2\n",
      "\t\tLaunched reduce tasks=8\n",
      "\t\tData-local map tasks=2\n",
      "\t\tTotal time spent by all maps in occupied slots (ms)=9726\n",
      "\t\tTotal time spent by all reduces in occupied slots (ms)=75975\n",
      "\t\tTotal time spent by all map tasks (ms)=9726\n",
      "\t\tTotal time spent by all reduce tasks (ms)=75975\n",
      "\t\tTotal vcore-milliseconds taken by all map tasks=9726\n",
      "\t\tTotal vcore-milliseconds taken by all reduce tasks=75975\n",
      "\t\tTotal megabyte-milliseconds taken by all map tasks=9959424\n",
      "\t\tTotal megabyte-milliseconds taken by all reduce tasks=77798400\n",
      "\tMap-Reduce Framework\n",
      "\t\tMap input records=51403\n",
      "\t\tMap output records=102546\n",
      "\t\tMap output bytes=1286928\n",
      "\t\tMap output materialized bytes=1492116\n",
      "\t\tInput split bytes=222\n",
      "\t\tCombine input records=0\n",
      "\t\tCombine output records=0\n",
      "\t\tReduce input groups=1772\n",
      "\t\tReduce shuffle bytes=1492116\n",
      "\t\tReduce input records=102546\n",
      "\t\tReduce output records=1772\n",
      "\t\tSpilled Records=205092\n",
      "\t\tShuffled Maps =16\n",
      "\t\tFailed Shuffles=0\n",
      "\t\tMerged Map outputs=16\n",
      "\t\tGC time elapsed (ms)=2056\n",
      "\t\tCPU time spent (ms)=26220\n",
      "\t\tPhysical memory (bytes) snapshot=2239832064\n",
      "\t\tVirtual memory (bytes) snapshot=19483746304\n",
      "\t\tTotal committed heap usage (bytes)=1325924352\n",
      "\tShuffle Errors\n",
      "\t\tBAD_ID=0\n",
      "\t\tCONNECTION=0\n",
      "\t\tIO_ERROR=0\n",
      "\t\tWRONG_LENGTH=0\n",
      "\t\tWRONG_MAP=0\n",
      "\t\tWRONG_REDUCE=0\n",
      "\tFile Input Format Counters \n",
      "\t\tBytes Read=4643177\n",
      "\tFile Output Format Counters \n",
      "\t\tBytes Written=30191\n",
      "22/10/29 17:15:33 INFO streaming.StreamJob: Output directory: football_matches_1667063693\n",
      "22/10/29 17:15:35 INFO client.RMProxy: Connecting to ResourceManager at /0.0.0.0:8032\n",
      "22/10/29 17:15:35 INFO client.RMProxy: Connecting to ResourceManager at /0.0.0.0:8032\n",
      "22/10/29 17:15:36 INFO mapred.FileInputFormat: Total input files to process : 8\n",
      "22/10/29 17:15:36 INFO mapreduce.JobSubmitter: number of splits:8\n",
      "22/10/29 17:15:36 INFO Configuration.deprecation: yarn.resourcemanager.system-metrics-publisher.enabled is deprecated. Instead, use yarn.system-metrics-publisher.enabled\n",
      "22/10/29 17:15:36 INFO mapreduce.JobSubmitter: Submitting tokens for job: job_1667060446092_0042\n",
      "22/10/29 17:15:37 INFO conf.Configuration: resource-types.xml not found\n",
      "22/10/29 17:15:37 INFO resource.ResourceUtils: Unable to find 'resource-types.xml'.\n",
      "22/10/29 17:15:37 INFO resource.ResourceUtils: Adding resource type - name = memory-mb, units = Mi, type = COUNTABLE\n",
      "22/10/29 17:15:37 INFO resource.ResourceUtils: Adding resource type - name = vcores, units = , type = COUNTABLE\n",
      "22/10/29 17:15:37 INFO impl.YarnClientImpl: Submitted application application_1667060446092_0042\n",
      "22/10/29 17:15:37 INFO mapreduce.Job: The url to track the job: http://172.17.0.2:8088/proxy/application_1667060446092_0042/\n",
      "22/10/29 17:15:37 INFO mapreduce.Job: Running job: job_1667060446092_0042\n",
      "22/10/29 17:15:46 INFO mapreduce.Job: Job job_1667060446092_0042 running in uber mode : false\n",
      "22/10/29 17:15:46 INFO mapreduce.Job:  map 0% reduce 0%\n",
      "22/10/29 17:15:58 INFO mapreduce.Job:  map 63% reduce 0%\n",
      "22/10/29 17:15:59 INFO mapreduce.Job:  map 75% reduce 0%\n",
      "22/10/29 17:16:06 INFO mapreduce.Job:  map 100% reduce 0%\n",
      "22/10/29 17:16:07 INFO mapreduce.Job:  map 100% reduce 100%\n",
      "22/10/29 17:16:08 INFO mapreduce.Job: Job job_1667060446092_0042 completed successfully\n",
      "22/10/29 17:16:08 INFO mapreduce.Job: Counters: 50\n",
      "\tFile System Counters\n",
      "\t\tFILE: Number of bytes read=42480\n",
      "\t\tFILE: Number of bytes written=1968755\n",
      "\t\tFILE: Number of read operations=0\n",
      "\t\tFILE: Number of large read operations=0\n",
      "\t\tFILE: Number of write operations=0\n",
      "\t\tHDFS: Number of bytes read=31183\n",
      "\t\tHDFS: Number of bytes written=29691\n",
      "\t\tHDFS: Number of read operations=27\n",
      "\t\tHDFS: Number of large read operations=0\n",
      "\t\tHDFS: Number of write operations=2\n",
      "\tJob Counters \n",
      "\t\tKilled map tasks=1\n",
      "\t\tLaunched map tasks=8\n",
      "\t\tLaunched reduce tasks=1\n",
      "\t\tData-local map tasks=8\n",
      "\t\tTotal time spent by all maps in occupied slots (ms)=78132\n",
      "\t\tTotal time spent by all reduces in occupied slots (ms)=6595\n",
      "\t\tTotal time spent by all map tasks (ms)=78132\n",
      "\t\tTotal time spent by all reduce tasks (ms)=6595\n",
      "\t\tTotal vcore-milliseconds taken by all map tasks=78132\n",
      "\t\tTotal vcore-milliseconds taken by all reduce tasks=6595\n",
      "\t\tTotal megabyte-milliseconds taken by all map tasks=80007168\n",
      "\t\tTotal megabyte-milliseconds taken by all reduce tasks=6753280\n",
      "\tMap-Reduce Framework\n",
      "\t\tMap input records=1772\n",
      "\t\tMap output records=1772\n",
      "\t\tMap output bytes=38930\n",
      "\t\tMap output materialized bytes=42522\n",
      "\t\tInput split bytes=992\n",
      "\t\tCombine input records=0\n",
      "\t\tCombine output records=0\n",
      "\t\tReduce input groups=1772\n",
      "\t\tReduce shuffle bytes=42522\n",
      "\t\tReduce input records=1772\n",
      "\t\tReduce output records=1772\n",
      "\t\tSpilled Records=3544\n",
      "\t\tShuffled Maps =8\n",
      "\t\tFailed Shuffles=0\n",
      "\t\tMerged Map outputs=8\n",
      "\t\tGC time elapsed (ms)=2963\n",
      "\t\tCPU time spent (ms)=14340\n",
      "\t\tPhysical memory (bytes) snapshot=2605334528\n",
      "\t\tVirtual memory (bytes) snapshot=17497985024\n",
      "\t\tTotal committed heap usage (bytes)=1711276032\n",
      "\tShuffle Errors\n",
      "\t\tBAD_ID=0\n",
      "\t\tCONNECTION=0\n",
      "\t\tIO_ERROR=0\n",
      "\t\tWRONG_LENGTH=0\n",
      "\t\tWRONG_MAP=0\n",
      "\t\tWRONG_REDUCE=0\n",
      "\tFile Input Format Counters \n",
      "\t\tBytes Read=30191\n",
      "\tFile Output Format Counters \n",
      "\t\tBytes Written=29691\n",
      "22/10/29 17:16:08 INFO streaming.StreamJob: Output directory: football_stats_1667063693\n"
     ]
    }
   ],
   "source": [
    "%%bash\n",
    "\n",
    "INPUT='/data/football/'\n",
    "OUTPUT='football_matches_'$(date +'%s')\n",
    "OUTPUT_FINAL='football_stats_'$(date +'%s')\n",
    "\n",
    "yarn jar /opt/cloudera/parcels/CDH/lib/hadoop-mapreduce/hadoop-streaming.jar \\\n",
    "    -D mapreduce.job.name='football_matches' \\\n",
    "    -D mapreduce.job.reduces=8 \\\n",
    "    -files mapper.py,reducer.py \\\n",
    "    -mapper \"python3 mapper.py\" \\\n",
    "    -reducer \"python3 reducer.py\" \\\n",
    "    -input ${INPUT} \\\n",
    "    -output ${OUTPUT} > /dev/null\n",
    "\n",
    "yarn jar /opt/cloudera/parcels/CDH/lib/hadoop-mapreduce/hadoop-streaming.jar \\\n",
    "    -D mapreduce.job.name='football_stats' \\\n",
    "    -D mapreduce.job.reduces=1 \\\n",
    "    -D mapreduce.job.output.key.comparator.class=org.apache.hadoop.mapreduce.lib.partition.KeyFieldBasedComparator \\\n",
    "    -D mapreduce.partition.keycomparator.options=\"-nr\" \\\n",
    "    -files mapper_stats.py,reducer_stats.py \\\n",
    "    -mapper \"python3 mapper_stats.py\" \\\n",
    "    -reducer \"python3 reducer_stats.py\" \\\n",
    "    -input ${OUTPUT} \\\n",
    "    -output ${OUTPUT_FINAL} > /dev/null"
   ]
  },
  {
   "cell_type": "code",
   "execution_count": 80,
   "metadata": {
    "vscode": {
     "languageId": "shellscript"
    }
   },
   "outputs": [
    {
     "name": "stdout",
     "output_type": "stream",
     "text": [
      "0.38\t1899_HOFFENHEIM\r\n",
      "0.43\tZENIT_SAINT_PETERSBURG\r\n",
      "0.43\tZAMORA\r\n",
      "0.32\tZARAGOZA\r\n",
      "0.33\tZULTE-WAREGEM\r\n",
      "0.0\tZFC_MEUSELWITZ\r\n",
      "0.22\tZORYA_LUHANSK\r\n",
      "0.22\tYORK\r\n",
      "0.0\tYATE_TOWN\r\n",
      "0.0\tYTRAC\r\n",
      "0.0\tYVETOT_AC\r\n",
      "0.5\tYZEURE_AS\r\n",
      "0.33\tYECLANO_DEPORTIVO\r\n",
      "0.4\tYEOVIL\r\n",
      "0.5\tYEADING\r\n",
      "0.0\tXEREZ_DEPORTIVO\r\n",
      "0.3\tXEREZ\r\n",
      "0.38\tWYCOMBE\r\n",
      "0.31\tWIGAN\r\n",
      "0.0\tWESTFIELDS\r\n",
      "0.25\tWALDHOF_MANNHEIM\r\n",
      "0.29\tWORCESTER\r\n",
      "0.55\tWASQUEHAL\r\n",
      "0.33\tWEICHE_FLENSBURG\r\n",
      "0.36\tWREXHAM\r\n",
      "0.17\tWEYMOUTH\r\n",
      "0.29\tWOLFSBERGER_AC\r\n",
      "0.25\tWESTON_SUPER_MARE\r\n",
      "0.4\tWERDER_BREMEN_II\r\n",
      "0.2\tWHITEHAWK\r\n",
      "0.5\tWARRINGTON_TOWN\r\n",
      "0.0\tWARE\r\n",
      "0.25\tWEST_BROM\r\n",
      "0.27\tWOKING\r\n",
      "0.18\tWACKER_BURGHAUSEN\r\n",
      "0.2\tWORMATIA_WORMS\r\n",
      "0.32\tWOLVERHAMPTON\r\n",
      "0.33\tWALSALL\r\n",
      "0.0\tWHITBY\r\n",
      "0.34\tWEST_HAM\r\n",
      "0.29\tWATFORD\r\n",
      "0.38\tWISLA_KRAKOW\r\n",
      "0.0\tWURZBURGER_FV\r\n",
      "0.0\tWEALDSTONE\r\n",
      "0.0\tWACKER_NORDHAUSEN\r\n",
      "0.4\tWUPPERTALER_SV\r\n",
      "0.0\tWORKINGTON\r\n",
      "0.43\tWERDER_BREMEN\r\n",
      "0.4\tWELLING\r\n",
      "0.43\tVERSAILLES_78_FC\r\n",
      "0.0\tVITREENNE\r\n",
      "0.62\tVITRE\r\n",
      "0.33\tVIRTUS_FRANCAVILLA\r\n",
      "0.44\tVIRTUS_ENTELLA\r\n",
      "0.0\tVILLENAVE\r\n",
      "0.43\tVILLARREAL\r\n",
      "0.36\tVILLANOVENSE\r\n",
      "0.0\tVICTORIA_CF\r\n",
      "0.0\tVFL_OLDENBURG\r\n",
      "0.29\tVFB_LUBECK\r\n",
      "0.57\tVESOUL\r\n",
      "0.21\tVENEZIA\r\n",
      "0.0\tVECINDARIO\r\n",
      "0.0\tVAUVERT_FC\r\n",
      "0.4\tVALENCE\r\n",
      "0.5\tVILLEFRANCHE\r\n",
      "0.0\tVILLAJOYOSA\r\n",
      "0.36\tVFR_AALEN\r\n",
      "0.0\tVFB_FICHTE_BIELEFELD\r\n",
      "0.5\tVERMELLES_US\r\n",
      "0.0\tVAULX-EN-VELIN\r\n",
      "0.67\tVAULX_EN_VELIN\r\n",
      "0.4\tVIRY-CHATILLON\r\n",
      "0.5\tVOLVIC_CS\r\n",
      "0.0\tVIKTORIA_BERLIN\r\n",
      "0.0\tVFB_SPELDORF\r\n",
      "0.67\tVENISSIEUX\r\n",
      "0.0\tVELEZ_CF\r\n",
      "0.59\tVANNES\r\n",
      "0.0\tVALLE_EGUES\r\n",
      "0.08\tVORSKLA_POLTAVA\r\n",
      "0.5\tVALENCIENNES_DUTEMPLE\r\n",
      "0.46\tVALENCIA\r\n",
      "0.0\tVILLEURBANNE_EVEIL_LYONNAIS\r\n",
      "0.0\tVILLEMOMBLE\r\n",
      "0.36\tVFL_OSNABRUCK\r\n",
      "0.0\tVFL_BOCHUM_II\r\n",
      "0.41\tVFB_STUTTGART\r\n",
      "0.0\tVFB_OLDENBURG\r\n",
      "0.46\tVARESE\r\n",
      "0.0\tVILLARRUBIA_CF\r\n",
      "0.0\tVFL_KIRCHHEIM\r\n",
      "0.0\tVIGNOC_HEDE_GUIPEL\r\n",
      "0.0\tVFR_NEUMUNSTER\r\n",
      "0.0\tVARDAR_SKOPJE\r\n",
      "0.41\tVFL_WOLFSBURG\r\n",
      "0.0\tVENUS\r\n",
      "0.0\tVANDOEUVRE\r\n",
      "0.31\tVALENCIENNES\r\n",
      "0.5\tVAL_DE_REUIL-VAUDREUIL\r\n"
     ]
    }
   ],
   "source": [
    "!hdfs dfs -cat /user/jovyan/football_stats_1667063693/part-* | head -n 100"
   ]
  }
 ],
 "metadata": {
  "kernelspec": {
   "display_name": "Python 3",
   "language": "python",
   "name": "python3"
  },
  "language_info": {
   "codemirror_mode": {
    "name": "ipython",
    "version": 3
   },
   "file_extension": ".py",
   "mimetype": "text/x-python",
   "name": "python",
   "nbconvert_exporter": "python",
   "pygments_lexer": "ipython3",
   "version": "3.6.6"
  },
  "vscode": {
   "interpreter": {
    "hash": "5109d816b82be14675a6b11f8e0f0d2e80f029176ed3710d54e125caa8520dfd"
   }
  }
 },
 "nbformat": 4,
 "nbformat_minor": 2
}
